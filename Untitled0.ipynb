{
  "nbformat": 4,
  "nbformat_minor": 0,
  "metadata": {
    "colab": {
      "name": "Untitled0.ipynb",
      "version": "0.3.2",
      "provenance": [],
      "include_colab_link": true
    },
    "kernelspec": {
      "name": "python3",
      "display_name": "Python 3"
    }
  },
  "cells": [
    {
      "cell_type": "markdown",
      "metadata": {
        "id": "view-in-github",
        "colab_type": "text"
      },
      "source": [
        "<a href=\"https://colab.research.google.com/github/4080E032/cs4high_4080E032/blob/master/Untitled0.ipynb\" target=\"_parent\"><img src=\"https://colab.research.google.com/assets/colab-badge.svg\" alt=\"Open In Colab\"/></a>"
      ]
    },
    {
      "cell_type": "code",
      "metadata": {
        "id": "1KYjKFXvaYkb",
        "colab_type": "code",
        "outputId": "829b746d-d049-4d7a-b3f4-0350bb15607f",
        "colab": {
          "base_uri": "https://localhost:8080/",
          "height": 153
        }
      },
      "source": [
        "print(\"           *           \")\n",
        "print(\"          ***          \")\n",
        "print(\"         *****         \")\n",
        "print(\"        *******        \")\n",
        "print(\"       *********       \")\n",
        "print(\"          ***          \")\n",
        "print(\"          ***          \")\n",
        "print(\"          ***          \")"
      ],
      "execution_count": 3,
      "outputs": [
        {
          "output_type": "stream",
          "text": [
            "           *           \n",
            "          ***          \n",
            "         *****         \n",
            "        *******        \n",
            "       *********       \n",
            "          ***          \n",
            "          ***          \n",
            "          ***          \n"
          ],
          "name": "stdout"
        }
      ]
    }
  ]
}